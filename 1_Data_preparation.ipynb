{
 "cells": [
  {
   "cell_type": "markdown",
   "metadata": {},
   "source": [
    "# Fantasy Premier League 2022/2023 Season Analysis:\n",
    "\n",
    "Fantasy Premier League (FPL) is a game played by 10m+ people globally and is a game which is base on a real action in Premier League. Your goal is to build most point team. Each manager of a team are selecting 15 players from all of the teams in Premier League and scores points. Each FPL manager is given a starting budget of £100 million and must pick a total of 15 players: 2 goalkeepers, 5 defenders, 5 midfielders and 3 forwards. You are limited to a maximum of three players from each Premier League team. Players in your team score points based on real-life performances with the main contributors to points totals being goals, assists (attacking side) and cleansheets(cs) (defensive side). Players can also lost their points for cards or own goal. \n",
    "\n",
    "Data source:\n",
    "Anand Vaastav's Github: https://github.com/vaastav/Fantasy-Premier-League/\n",
    "\n",
    "The goal of this project is to analysis diffrent statistics and find impact of these on points and patterns. With this conclusions search for undervalued players. Because in my opinion finding these kind of players before everyone else is a key to get to top ranks which is having more points than opponents.\n",
    "\n",
    "Let's get started with importing data and getting relevant columns for analysis. \n"
   ]
  },
  {
   "cell_type": "code",
   "execution_count": 1,
   "metadata": {},
   "outputs": [],
   "source": [
    "import numpy as np\n",
    "import pandas as pd\n",
    "import warnings\n",
    "\n",
    "#Turn off warnings\n",
    "warnings.filterwarnings('ignore')\n",
    "\n",
    "df_raw = pd.read_csv(filepath_or_buffer='data/players_raw.csv',  sep=',') # raw data players - data frame\n",
    "df_teams = pd.read_csv(filepath_or_buffer='data/teams.csv',  sep=',') # teams - data frame\n",
    "\n",
    "#Getting relevant columns\n",
    "cols = ['web_name', 'first_name', 'second_name', 'team', 'element_type', 'total_points', 'points_per_game', 'now_cost', 'goals_scored', 'assists',\n",
    "        'ict_index', 'selected_by_percent', 'minutes', 'bonus', 'clean_sheets', 'clean_sheets_per_90', 'creativity', 'expected_assists',\n",
    "        'expected_assists_per_90', 'expected_goal_involvements', 'expected_goal_involvements_per_90', 'expected_goals', 'expected_goals_conceded',\n",
    "        'expected_goals_conceded_per_90', 'expected_goals_per_90' , 'goals_conceded', 'goals_conceded_per_90', 'influence', 'own_goals',\n",
    "        'penalties_missed', 'penalties_order', 'penalties_saved', 'red_cards', 'saves', 'saves_per_90', 'selected_rank', 'starts', 'starts_per_90',\n",
    "        'threat', 'value_form', 'value_season', 'yellow_cards']\n",
    "df = df_raw[cols]"
   ]
  },
  {
   "cell_type": "markdown",
   "metadata": {},
   "source": [
    "Printing types of all of relevant columns"
   ]
  },
  {
   "cell_type": "code",
   "execution_count": 2,
   "metadata": {},
   "outputs": [
    {
     "name": "stdout",
     "output_type": "stream",
     "text": [
      "web_name                              object\n",
      "first_name                            object\n",
      "second_name                           object\n",
      "team                                   int64\n",
      "element_type                           int64\n",
      "total_points                           int64\n",
      "points_per_game                      float64\n",
      "now_cost                               int64\n",
      "goals_scored                           int64\n",
      "assists                                int64\n",
      "ict_index                            float64\n",
      "selected_by_percent                  float64\n",
      "minutes                                int64\n",
      "bonus                                  int64\n",
      "clean_sheets                           int64\n",
      "clean_sheets_per_90                  float64\n",
      "creativity                           float64\n",
      "expected_assists                     float64\n",
      "expected_assists_per_90              float64\n",
      "expected_goal_involvements           float64\n",
      "expected_goal_involvements_per_90    float64\n",
      "expected_goals                       float64\n",
      "expected_goals_conceded              float64\n",
      "expected_goals_conceded_per_90       float64\n",
      "expected_goals_per_90                float64\n",
      "goals_conceded                         int64\n",
      "goals_conceded_per_90                float64\n",
      "influence                            float64\n",
      "own_goals                              int64\n",
      "penalties_missed                       int64\n",
      "penalties_order                      float64\n",
      "penalties_saved                        int64\n",
      "red_cards                              int64\n",
      "saves                                  int64\n",
      "saves_per_90                         float64\n",
      "selected_rank                          int64\n",
      "starts                                 int64\n",
      "starts_per_90                        float64\n",
      "threat                               float64\n",
      "value_form                           float64\n",
      "value_season                         float64\n",
      "yellow_cards                           int64\n",
      "dtype: object\n"
     ]
    }
   ],
   "source": [
    "print(df.dtypes)"
   ]
  },
  {
   "cell_type": "markdown",
   "metadata": {},
   "source": [
    "Changing all of columns that have integer type to float. "
   ]
  },
  {
   "cell_type": "code",
   "execution_count": 3,
   "metadata": {},
   "outputs": [],
   "source": [
    "#Change columns to float\n",
    "cols = ['assists', 'bonus', 'clean_sheets', 'goals_conceded', 'goals_scored', 'minutes', 'now_cost','own_goals', 'penalties_missed', 'penalties_saved',\n",
    "        'red_cards', 'saves', 'selected_rank', 'starts', 'total_points', 'yellow_cards']\n",
    "df[cols] = df[cols].astype('float64')"
   ]
  },
  {
   "cell_type": "markdown",
   "metadata": {},
   "source": [
    "Replace team_codes column with team columns which is a short name of club. Using connecting linked columns in teams.csv we replace matching column team with shortcut name of team using dictionary. Eg. 1 change to ARS, 2 change to AVL. "
   ]
  },
  {
   "cell_type": "code",
   "execution_count": 4,
   "metadata": {},
   "outputs": [],
   "source": [
    "#Replacing team code with short name by connecting linked columns\n",
    "team_codes = list(df_teams['id'])\n",
    "team_names = list(df_teams['short_name'])\n",
    "team_dict = dict(zip(team_codes, team_names)) # use the zip to 2 lists to create lists of tuples\n",
    "df['team'] = df['team'].replace(team_dict)"
   ]
  },
  {
   "cell_type": "markdown",
   "metadata": {},
   "source": [
    "Changing \"NAN\" values to 0 in column penalties_order."
   ]
  },
  {
   "cell_type": "code",
   "execution_count": 5,
   "metadata": {},
   "outputs": [],
   "source": [
    "#Replacing \"NAN\" values to 0 in column penalties_order\n",
    "df.replace(np.nan,0, inplace=True)"
   ]
  },
  {
   "cell_type": "markdown",
   "metadata": {},
   "source": [
    "Changing column now_cost by divided by 10 and changing name to price."
   ]
  },
  {
   "cell_type": "code",
   "execution_count": 6,
   "metadata": {},
   "outputs": [],
   "source": [
    "#Changing column now_cost by divided by 10 and changing name to price\n",
    "df.rename(columns = {'now_cost':'price'}, inplace = True)\n",
    "df['price'] = df['price'] / 10"
   ]
  },
  {
   "cell_type": "markdown",
   "metadata": {},
   "source": [
    "Changing column element_type to position and adding new column goal_involvements which is goal + assists."
   ]
  },
  {
   "cell_type": "code",
   "execution_count": 7,
   "metadata": {},
   "outputs": [],
   "source": [
    "#Changing column element_type to position\n",
    "df.rename(columns = {'element_type':'position'}, inplace = True)\n",
    "position_dict = {1: 'Goalkeeper', 2: \"Defender\", 3: \"Midfielder\", 4: \"Forward\"}\n",
    "df['position'] = df['position'].replace(position_dict)\n",
    "\n",
    "#Adding new columne goal_involvements\n",
    "df['goal_involvements'] = df['goals_scored'] + df['assists']"
   ]
  },
  {
   "cell_type": "markdown",
   "metadata": {},
   "source": [
    "We will now create price ranges for each position to group the data. Also move the price_level column to the right position in dataframe."
   ]
  },
  {
   "cell_type": "code",
   "execution_count": 8,
   "metadata": {},
   "outputs": [],
   "source": [
    "#Creating intervals for each positions, diffrent bins for each position\n",
    "bins = {'Goalkeeper': (3.5,4.0,4.5,5.0,5.5), 'Defender' : (3.5,4.5,5.0,5.5,8.0), 'Midfielder':(4.0,5.5,6.5,8.0,13.5),\n",
    "        'Forward': (4.0,5.5,6.5,8.0, 12.5)}\n",
    "labels = [\"Budget\", \"Mid\", \"High\", \"Premium\"]\n",
    "\n",
    "def func_bins(row):\n",
    "    return pd.cut([row['price']], bins=bins[row['position']], labels=labels)[0]\n",
    "\n",
    "df['price_level'] = df.apply(func_bins, axis=1)\n",
    "\n",
    "#Moving the 'price_level' column to the right position in dataframe\n",
    "price_level_col = df.pop('price_level')\n",
    "df.insert(8, 'price_level', price_level_col)"
   ]
  },
  {
   "cell_type": "markdown",
   "metadata": {},
   "source": [
    "Checking for missing data and if all data is right we exporting dataframe to cleaned csv file players_clean. "
   ]
  },
  {
   "cell_type": "code",
   "execution_count": 9,
   "metadata": {},
   "outputs": [
    {
     "name": "stdout",
     "output_type": "stream",
     "text": [
      "web_name                             0\n",
      "first_name                           0\n",
      "second_name                          0\n",
      "team                                 0\n",
      "position                             0\n",
      "total_points                         0\n",
      "points_per_game                      0\n",
      "price                                0\n",
      "price_level                          0\n",
      "goals_scored                         0\n",
      "assists                              0\n",
      "ict_index                            0\n",
      "selected_by_percent                  0\n",
      "minutes                              0\n",
      "bonus                                0\n",
      "clean_sheets                         0\n",
      "clean_sheets_per_90                  0\n",
      "creativity                           0\n",
      "expected_assists                     0\n",
      "expected_assists_per_90              0\n",
      "expected_goal_involvements           0\n",
      "expected_goal_involvements_per_90    0\n",
      "expected_goals                       0\n",
      "expected_goals_conceded              0\n",
      "expected_goals_conceded_per_90       0\n",
      "expected_goals_per_90                0\n",
      "goals_conceded                       0\n",
      "goals_conceded_per_90                0\n",
      "influence                            0\n",
      "own_goals                            0\n",
      "penalties_missed                     0\n",
      "penalties_order                      0\n",
      "penalties_saved                      0\n",
      "red_cards                            0\n",
      "saves                                0\n",
      "saves_per_90                         0\n",
      "selected_rank                        0\n",
      "starts                               0\n",
      "starts_per_90                        0\n",
      "threat                               0\n",
      "value_form                           0\n",
      "value_season                         0\n",
      "yellow_cards                         0\n",
      "goal_involvements                    0\n",
      "dtype: int64\n"
     ]
    }
   ],
   "source": [
    "#Checking for missing data\n",
    "print(df.isnull().sum())\n",
    "\n",
    "#Exporting cleaned data\n",
    "df.to_csv('data/players_clean.csv', index=False)"
   ]
  },
  {
   "cell_type": "markdown",
   "metadata": {},
   "source": [
    "The data is cleared . We can now get down to analysing the data."
   ]
  }
 ],
 "metadata": {
  "kernelspec": {
   "display_name": "Python 3 (ipykernel)",
   "language": "python",
   "name": "python3"
  },
  "language_info": {
   "codemirror_mode": {
    "name": "ipython",
    "version": 3
   },
   "file_extension": ".py",
   "mimetype": "text/x-python",
   "name": "python",
   "nbconvert_exporter": "python",
   "pygments_lexer": "ipython3",
   "version": "3.9.13"
  }
 },
 "nbformat": 4,
 "nbformat_minor": 4
}
